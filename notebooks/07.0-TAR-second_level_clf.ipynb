{
 "cells": [
  {
   "cell_type": "code",
   "execution_count": 24,
   "metadata": {},
   "outputs": [],
   "source": [
    "import pandas as pd\n",
    "\n",
    "from sklearn.feature_extraction.text import CountVectorizer\n",
    "from sklearn.model_selection import StratifiedKFold, train_test_split\n",
    "from sklearn.feature_extraction import stop_words\n",
    "from sklearn.preprocessing import OneHotEncoder\n",
    "from sklearn.metrics import confusion_matrix, classification_report, roc_curve, auc, f1_score, precision_score, recall_score\n",
    "from sklearn.linear_model import LogisticRegression\n",
    "\n",
    "from imblearn.ensemble import EasyEnsembleClassifier\n",
    "\n",
    "import re\n",
    "\n",
    "from urlextract import URLExtract\n",
    "\n",
    "from scipy.sparse import hstack\n",
    "\n",
    "import numpy as np\n",
    "\n",
    "import json\n",
    "\n",
    "import pickle\n",
    "\n",
    "import sys\n",
    "\n",
    "import seaborn as sns\n",
    "\n",
    "sys.path.append('..')\n",
    "from src.features.build_features import syns, sep_urls, check_paren, repo_label\n",
    "from src.data.make_dataset import return_passages, test_suitability"
   ]
  },
  {
   "cell_type": "markdown",
   "metadata": {},
   "source": [
    "In this notebook, I'm bolting on a second level classifier to see how things work out. The first time around doing this, I did things a little wonky. The next commit for this notebook will clean that up"
   ]
  },
  {
   "cell_type": "code",
   "execution_count": 4,
   "metadata": {},
   "outputs": [],
   "source": [
    "def code_kw(text):\n",
    "    passage_marked = 0\n",
    "    \n",
    "    reg_matches = re.compile(r\"\"\"(software)|(tool)|(code)|(package)|(\\sR\\s)|(python)|\n",
    "                                 (matlab)|(SPM8)|(implement.)\"\"\", re.X|re.VERBOSE)\n",
    "    \n",
    "    m = re.search(reg_matches, text.lower())\n",
    "    if m:\n",
    "        return(1)\n",
    "    else:\n",
    "        return(0)"
   ]
  },
  {
   "cell_type": "markdown",
   "metadata": {},
   "source": [
    "Here, we're looking at the results of labeling the data"
   ]
  },
  {
   "cell_type": "code",
   "execution_count": 5,
   "metadata": {},
   "outputs": [],
   "source": [
    "df_labeled = pd.read_csv('/data/riddleta/data_sharing_reuse/interim/high_recall_labelling - high_recall_labelling.csv')"
   ]
  },
  {
   "cell_type": "code",
   "execution_count": 6,
   "metadata": {},
   "outputs": [],
   "source": [
    "df_labeled['recoded_labels'] = df_labeled.n2.replace({'c':0, 'n':0, '2':1, 'd':1, 'n2':0, 'nd':0})"
   ]
  },
  {
   "cell_type": "code",
   "execution_count": 7,
   "metadata": {},
   "outputs": [
    {
     "data": {
      "text/plain": [
       "0    341\n",
       "1    159\n",
       "Name: recoded_labels, dtype: int64"
      ]
     },
     "execution_count": 7,
     "metadata": {},
     "output_type": "execute_result"
    }
   ],
   "source": [
    "df_labeled.recoded_labels.value_counts()"
   ]
  },
  {
   "cell_type": "code",
   "execution_count": 8,
   "metadata": {},
   "outputs": [],
   "source": [
    "df_labeled['kw_code'] = df_labeled.text.apply(lambda x: code_kw(x))"
   ]
  },
  {
   "cell_type": "code",
   "execution_count": 9,
   "metadata": {},
   "outputs": [
    {
     "data": {
      "text/html": [
       "<div>\n",
       "<style scoped>\n",
       "    .dataframe tbody tr th:only-of-type {\n",
       "        vertical-align: middle;\n",
       "    }\n",
       "\n",
       "    .dataframe tbody tr th {\n",
       "        vertical-align: top;\n",
       "    }\n",
       "\n",
       "    .dataframe thead th {\n",
       "        text-align: right;\n",
       "    }\n",
       "</style>\n",
       "<table border=\"1\" class=\"dataframe\">\n",
       "  <thead>\n",
       "    <tr style=\"text-align: right;\">\n",
       "      <th>n2</th>\n",
       "      <th>2</th>\n",
       "      <th>c</th>\n",
       "      <th>d</th>\n",
       "      <th>n</th>\n",
       "      <th>n2</th>\n",
       "      <th>nd</th>\n",
       "    </tr>\n",
       "    <tr>\n",
       "      <th>kw_code</th>\n",
       "      <th></th>\n",
       "      <th></th>\n",
       "      <th></th>\n",
       "      <th></th>\n",
       "      <th></th>\n",
       "      <th></th>\n",
       "    </tr>\n",
       "  </thead>\n",
       "  <tbody>\n",
       "    <tr>\n",
       "      <th>0</th>\n",
       "      <td>88</td>\n",
       "      <td>58</td>\n",
       "      <td>50</td>\n",
       "      <td>133</td>\n",
       "      <td>12</td>\n",
       "      <td>6</td>\n",
       "    </tr>\n",
       "    <tr>\n",
       "      <th>1</th>\n",
       "      <td>7</td>\n",
       "      <td>112</td>\n",
       "      <td>14</td>\n",
       "      <td>20</td>\n",
       "      <td>0</td>\n",
       "      <td>0</td>\n",
       "    </tr>\n",
       "  </tbody>\n",
       "</table>\n",
       "</div>"
      ],
      "text/plain": [
       "n2        2    c   d    n  n2  nd\n",
       "kw_code                          \n",
       "0        88   58  50  133  12   6\n",
       "1         7  112  14   20   0   0"
      ]
     },
     "execution_count": 9,
     "metadata": {},
     "output_type": "execute_result"
    }
   ],
   "source": [
    "pd.crosstab(df_labeled.kw_code, df_labeled.n2)"
   ]
  },
  {
   "cell_type": "code",
   "execution_count": 10,
   "metadata": {},
   "outputs": [
    {
     "data": {
      "text/plain": [
       "c     170\n",
       "n     153\n",
       "2      95\n",
       "d      64\n",
       "n2     12\n",
       "nd      6\n",
       "Name: n2, dtype: int64"
      ]
     },
     "execution_count": 10,
     "metadata": {},
     "output_type": "execute_result"
    }
   ],
   "source": [
    "df_labeled.n2.value_counts()"
   ]
  },
  {
   "cell_type": "markdown",
   "metadata": {},
   "source": [
    "Now we rerun the classifier on the original training sample (before the new labels)"
   ]
  },
  {
   "cell_type": "code",
   "execution_count": 13,
   "metadata": {},
   "outputs": [],
   "source": [
    "extract = URLExtract()\n",
    "df = pd.read_csv('/data/riddleta/data_sharing_reuse/external/combined_labels_incomplete.csv')\n",
    "df.text.fillna('', inplace=True)\n",
    "df['has_url'] = df.text.apply(lambda x: extract.has_urls(x))\n",
    "df['has_parenth'] = df.text.apply(lambda x: check_paren(x))\n",
    "df['repo'] = df.text.apply(lambda x: repo_label(x))\n",
    "df['text'] = df.text.apply(lambda x: sep_urls(x))\n",
    "df['syn_text'] = df.text.apply(lambda x: syns(x))\n",
    "df['all_text'] = df.text + ' ' + df.syn_text"
   ]
  },
  {
   "cell_type": "code",
   "execution_count": 14,
   "metadata": {},
   "outputs": [],
   "source": [
    "cv = CountVectorizer(stop_words=stop_words.ENGLISH_STOP_WORDS)\n",
    "enc = OneHotEncoder(handle_unknown='ignore')\n",
    "\n",
    "x_tr, x_tst, y_tr, y_tst = train_test_split(df.all_text, df.data_statement, test_size=.25, random_state=42, stratify=df.data_statement)"
   ]
  },
  {
   "cell_type": "code",
   "execution_count": 15,
   "metadata": {},
   "outputs": [
    {
     "name": "stdout",
     "output_type": "stream",
     "text": [
      "Predicted    0   1\n",
      "True              \n",
      "0          551  30\n",
      "1            3  50\n",
      "              precision    recall  f1-score   support\n",
      "\n",
      "           0       0.99      0.95      0.97       581\n",
      "           1       0.62      0.94      0.75        53\n",
      "\n",
      "    accuracy                           0.95       634\n",
      "   macro avg       0.81      0.95      0.86       634\n",
      "weighted avg       0.96      0.95      0.95       634\n",
      "\n"
     ]
    }
   ],
   "source": [
    "x_train = cv.fit_transform(x_tr)\n",
    "one_hots_train = enc.fit_transform(df[['section', 'Journal Title', 'Year', 'has_url', 'has_parenth', 'repo']].loc[x_tr.index])\n",
    "y_train = df.data_statement[x_tr.index]\n",
    "x_test = cv.transform(df.all_text[x_tst.index])\n",
    "one_hots_test = enc.transform(df[['section', 'Journal Title', 'Year', 'has_url', 'has_parenth', 'repo']].iloc[x_tst.index])\n",
    "y_test = df.data_statement[x_tst.index]\n",
    "\n",
    "x_train = hstack([x_train, one_hots_train])\n",
    "x_test = hstack([x_test, one_hots_test])\n",
    "#x_res, y_res = ros.fit_resample(x_train, y_train)\n",
    "\n",
    "clf = EasyEnsembleClassifier()\n",
    "y_score = clf.fit(x_train, y_train)\n",
    "y_pred = clf.predict(x_test)\n",
    "y_pred_proba = clf.predict_proba(x_test)\n",
    "print(pd.crosstab(y_test, y_pred, rownames=['True'], colnames=['Predicted']))\n",
    "print(classification_report(y_test, y_pred))"
   ]
  },
  {
   "cell_type": "markdown",
   "metadata": {},
   "source": [
    "Now add in the new labels. The second level classifier is going to use predicted probabilities from the first, so we're going to switch to a 3-fold cross validation scheme, using the predicted probabilities for the held out fold as the input for the next level."
   ]
  },
  {
   "cell_type": "code",
   "execution_count": 16,
   "metadata": {},
   "outputs": [
    {
     "data": {
      "text/plain": [
       "(3033, 6)"
      ]
     },
     "execution_count": 16,
     "metadata": {},
     "output_type": "execute_result"
    }
   ],
   "source": [
    "df_labeled['data_statement'] = df_labeled.n2.replace({'c':0, 'n':0, '2':1, \n",
    "                                                      'd':1, 'n2':0, 'nd':0})\n",
    "df = pd.read_csv('/data/riddleta/data_sharing_reuse/external/combined_labels_incomplete.csv')\n",
    "df = pd.concat([df[['text', 'section', 'doi', 'Journal Title', \n",
    "                   'pmcid', 'data_statement']],\n",
    "              df_labeled[['text', 'section', 'doi', 'Journal Title', \n",
    "                          'pmcid', 'data_statement']]])\n",
    "df.text.fillna('', inplace=True)\n",
    "df.shape"
   ]
  },
  {
   "cell_type": "code",
   "execution_count": 17,
   "metadata": {},
   "outputs": [],
   "source": [
    "df_nimh = pd.read_csv('/data/riddleta/data_sharing_reuse/external/nimh_papers.csv')\n",
    "df_nimh['Year'] = df_nimh['journal_year']\n",
    "df_nimh = df_nimh[['pmcid', 'Year']].drop_duplicates()\n",
    "df = df.merge(df_nimh, how='left', on='pmcid')\n",
    "df['has_url'] = df.text.apply(lambda x: extract.has_urls(x))\n",
    "df['has_parenth'] = df.text.apply(lambda x: check_paren(x))\n",
    "df['repo'] = df.text.apply(lambda x: repo_label(x))\n",
    "df['text'] = df.text.apply(lambda x: sep_urls(x))\n",
    "df['syn_text'] = df.text.apply(lambda x: syns(x))\n",
    "df['all_text'] = df.text + ' ' + df.syn_text"
   ]
  },
  {
   "cell_type": "code",
   "execution_count": 33,
   "metadata": {},
   "outputs": [
    {
     "name": "stderr",
     "output_type": "stream",
     "text": [
      "/home/riddleta/miniconda3/envs/data_sharing_reuse/lib/python3.8/site-packages/pandas/core/indexing.py:205: SettingWithCopyWarning: \n",
      "A value is trying to be set on a copy of a slice from a DataFrame\n",
      "\n",
      "See the caveats in the documentation: http://pandas.pydata.org/pandas-docs/stable/user_guide/indexing.html#returning-a-view-versus-a-copy\n",
      "  self._setitem_with_indexer(indexer, value)\n",
      "/home/riddleta/miniconda3/envs/data_sharing_reuse/lib/python3.8/site-packages/pandas/core/indexing.py:205: SettingWithCopyWarning: \n",
      "A value is trying to be set on a copy of a slice from a DataFrame\n",
      "\n",
      "See the caveats in the documentation: http://pandas.pydata.org/pandas-docs/stable/user_guide/indexing.html#returning-a-view-versus-a-copy\n",
      "  self._setitem_with_indexer(indexer, value)\n",
      "/home/riddleta/miniconda3/envs/data_sharing_reuse/lib/python3.8/site-packages/pandas/core/indexing.py:205: SettingWithCopyWarning: \n",
      "A value is trying to be set on a copy of a slice from a DataFrame\n",
      "\n",
      "See the caveats in the documentation: http://pandas.pydata.org/pandas-docs/stable/user_guide/indexing.html#returning-a-view-versus-a-copy\n",
      "  self._setitem_with_indexer(indexer, value)\n"
     ]
    }
   ],
   "source": [
    "kfold = StratifiedKFold(n_splits=3, shuffle=True)\n",
    "cv = CountVectorizer(stop_words=stop_words.ENGLISH_STOP_WORDS)\n",
    "enc = OneHotEncoder(handle_unknown='ignore')\n",
    "\n",
    "df['pred_prob'] = 0\n",
    "\n",
    "for train_index, test_index in kfold.split(df.all_text, df.data_statement):\n",
    "    x_train = cv.fit_transform(df.all_text[train_index])\n",
    "    one_hots_train = enc.fit_transform(df[['section', 'Journal Title', 'Year', 'has_url', 'has_parenth', 'repo']].iloc[train_index])\n",
    "    y_train = df.data_statement[train_index]\n",
    "    x_test = cv.transform(df.all_text[test_index])\n",
    "    one_hots_test = enc.transform(df[['section', 'Journal Title', 'Year', 'has_url', 'has_parenth', 'repo']].iloc[test_index])\n",
    "    y_test = df.data_statement[test_index]\n",
    "    \n",
    "    x_train = hstack([x_train, one_hots_train])\n",
    "    x_test = hstack([x_test, one_hots_test])\n",
    "    \n",
    "    clf = EasyEnsembleClassifier()\n",
    "    y_score = clf.fit(x_train, y_train)\n",
    "    df['pred_prob'].loc[test_index] = clf.predict_proba(x_test)[:,1]"
   ]
  },
  {
   "cell_type": "code",
   "execution_count": 34,
   "metadata": {},
   "outputs": [
    {
     "data": {
      "text/plain": [
       "<matplotlib.axes._subplots.AxesSubplot at 0x7efc2796cf40>"
      ]
     },
     "execution_count": 34,
     "metadata": {},
     "output_type": "execute_result"
    },
    {
     "data": {
      "image/png": "[encoded data removed]",
      "text/plain": [
       "<Figure size 432x288 with 1 Axes>"
      ]
     },
     "metadata": {
      "needs_background": "light"
     },
     "output_type": "display_data"
    }
   ],
   "source": [
    "sns.distplot(df.pred_prob)"
   ]
  },
  {
   "cell_type": "code",
   "execution_count": 38,
   "metadata": {},
   "outputs": [
    {
     "name": "stdout",
     "output_type": "stream",
     "text": [
      "Predicted    0   1\n",
      "True              \n",
      "0          878   1\n",
      "1          104  18\n",
      "              precision    recall  f1-score   support\n",
      "\n",
      "           0       0.89      1.00      0.94       879\n",
      "           1       0.95      0.15      0.26       122\n",
      "\n",
      "    accuracy                           0.90      1001\n",
      "   macro avg       0.92      0.57      0.60      1001\n",
      "weighted avg       0.90      0.90      0.86      1001\n",
      "\n"
     ]
    }
   ],
   "source": [
    "df['kw_code'] = df.text.apply(lambda x: code_kw(x))\n",
    "df['interaction'] = df.kw_code * df.pred_prob\n",
    "x_tr, x_tst, y_tr, y_tst = train_test_split(df.kw_code, df.data_statement, test_size=.33, random_state=42, stratify=df.data_statement)\n",
    "x_tr = df[['kw_code', 'pred_prob', 'interaction']].loc[x_tr.index]\n",
    "x_tst = df[['kw_code', 'pred_prob', 'interaction']].loc[x_tst.index]\n",
    "\n",
    "clf_log = LogisticRegression(random_state=42)\n",
    "clf_log.fit(x_tr, y_tr)\n",
    "y_pred = clf_log.predict(x_tst)\n",
    "print(pd.crosstab(y_tst, y_pred, rownames=['True'], colnames=['Predicted']))\n",
    "print(classification_report(y_tst, y_pred))"
   ]
  },
  {
   "cell_type": "markdown",
   "metadata": {},
   "source": [
    "## below here is appendix code\n",
    "\n",
    "after this, I'm using the high-recall classifier to apply labels to the population of papers. I didn't really do much with this, other than inspect the results."
   ]
  },
  {
   "cell_type": "code",
   "execution_count": 34,
   "metadata": {},
   "outputs": [
    {
     "name": "stderr",
     "output_type": "stream",
     "text": [
      "/home/riddleta/miniconda3/envs/data_sharing_reuse/lib/python3.8/site-packages/IPython/core/interactiveshell.py:3050: DtypeWarning: Columns (1) have mixed types. Specify dtype option on import or set low_memory=False.\n",
      "  has_raised = await self.run_ast_nodes(code_ast.body, cell_name,\n"
     ]
    }
   ],
   "source": [
    "nimh_papers = pd.read_csv('/data/riddleta/data_sharing_reuse/external/nimh_papers.csv')\n",
    "#load file index\n",
    "file_ix = pd.read_csv('/data/riddleta/data_sharing_reuse/external/file_index.csv')\n",
    "file_ix['pmcid'] = file_ix.pmcid.astype('str')\n",
    "nimh_papers['pmcid'] = nimh_papers.pmcid.astype('str')"
   ]
  },
  {
   "cell_type": "code",
   "execution_count": 35,
   "metadata": {},
   "outputs": [
    {
     "data": {
      "text/plain": [
       "231"
      ]
     },
     "execution_count": 35,
     "metadata": {},
     "output_type": "execute_result"
    }
   ],
   "source": [
    "target_papers = file_ix[file_ix.pmcid.isin(nimh_papers.pmcid)]\n",
    "target_papers.shape\n",
    "target_papers = target_papers.sort_values('file')\n",
    "status_prints = range(0, len(target_papers.file.tolist()), 250)\n",
    "len(status_prints)"
   ]
  },
  {
   "cell_type": "code",
   "execution_count": 40,
   "metadata": {},
   "outputs": [
    {
     "name": "stdout",
     "output_type": "stream",
     "text": [
      "0\n",
      "250\n",
      "500\n",
      "750\n",
      "1000\n",
      "1250\n",
      "1500\n",
      "1750\n",
      "2000\n",
      "2250\n",
      "2500\n",
      "2750\n",
      "3000\n",
      "3250\n",
      "3500\n",
      "3750\n",
      "4000\n",
      "4250\n",
      "4500\n",
      "4750\n",
      "5000\n",
      "5250\n",
      "5500\n",
      "5750\n",
      "6000\n",
      "6250\n",
      "6500\n",
      "6750\n",
      "7000\n",
      "7250\n",
      "7500\n",
      "7750\n",
      "8000\n",
      "8250\n",
      "8500\n",
      "8750\n",
      "9000\n",
      "9250\n",
      "9500\n",
      "9750\n",
      "10000\n",
      "10250\n",
      "10500\n",
      "10750\n",
      "11000\n",
      "11250\n",
      "11500\n",
      "11750\n",
      "12000\n",
      "12250\n",
      "12500\n",
      "12750\n",
      "13000\n",
      "13250\n",
      "13500\n",
      "13750\n",
      "14000\n",
      "14250\n",
      "14500\n",
      "14750\n",
      "15000\n",
      "15250\n",
      "15500\n",
      "15750\n",
      "16000\n",
      "16250\n",
      "16500\n",
      "16750\n",
      "17000\n",
      "17250\n",
      "17500\n",
      "17750\n",
      "18000\n",
      "18250\n",
      "18500\n",
      "18750\n",
      "19000\n",
      "19250\n",
      "19500\n",
      "19750\n",
      "20000\n",
      "20250\n",
      "20500\n",
      "20750\n",
      "21000\n",
      "21250\n",
      "21500\n",
      "21750\n",
      "22000\n",
      "22250\n",
      "22500\n",
      "22750\n",
      "23000\n",
      "23250\n",
      "23500\n",
      "23750\n",
      "24000\n",
      "24250\n",
      "24500\n",
      "24750\n",
      "25000\n",
      "25250\n",
      "25500\n",
      "25750\n",
      "26000\n",
      "26250\n",
      "26500\n",
      "26750\n",
      "27000\n",
      "27250\n",
      "27500\n",
      "27750\n",
      "28000\n",
      "28250\n",
      "28500\n",
      "28750\n",
      "29000\n",
      "29250\n",
      "29500\n",
      "29750\n",
      "30000\n",
      "30250\n",
      "30500\n",
      "30750\n",
      "31000\n",
      "31250\n",
      "31500\n",
      "31750\n",
      "32000\n",
      "32250\n",
      "32500\n",
      "32750\n",
      "33000\n",
      "33250\n",
      "33500\n",
      "33750\n",
      "34000\n",
      "34250\n",
      "34500\n",
      "34750\n",
      "35000\n",
      "35250\n",
      "35500\n",
      "35750\n",
      "36000\n",
      "36250\n",
      "36500\n",
      "36750\n",
      "37000\n",
      "37250\n",
      "37500\n",
      "37750\n",
      "38000\n",
      "38250\n",
      "38500\n",
      "38750\n",
      "39000\n",
      "39250\n",
      "39500\n",
      "39750\n",
      "40000\n",
      "40250\n",
      "40500\n",
      "40750\n",
      "41000\n",
      "41250\n",
      "41500\n",
      "41750\n",
      "42000\n",
      "42250\n",
      "42500\n",
      "42750\n",
      "43000\n",
      "43250\n",
      "43500\n",
      "43750\n",
      "44000\n",
      "44250\n",
      "44500\n",
      "44750\n",
      "45000\n",
      "45250\n",
      "45500\n",
      "45750\n",
      "46000\n",
      "46250\n",
      "46500\n",
      "46750\n",
      "47000\n",
      "47250\n",
      "47500\n",
      "47750\n",
      "48000\n",
      "48250\n",
      "48500\n",
      "48750\n",
      "49000\n",
      "49250\n",
      "49500\n",
      "49750\n",
      "50000\n",
      "50250\n",
      "50500\n",
      "50750\n",
      "51000\n",
      "51250\n",
      "51500\n",
      "51750\n",
      "52000\n",
      "52250\n",
      "52500\n",
      "52750\n",
      "53000\n",
      "53250\n",
      "53500\n",
      "53750\n",
      "54000\n",
      "54250\n",
      "54500\n",
      "54750\n",
      "55000\n",
      "55250\n",
      "55500\n",
      "55750\n",
      "56000\n",
      "56250\n",
      "56500\n",
      "56750\n",
      "57000\n",
      "57250\n",
      "57500\n"
     ]
    }
   ],
   "source": [
    "data_collect = []\n",
    "last_file = np.nan\n",
    "for i, file in enumerate(target_papers.file.tolist()):\n",
    "    if i in status_prints:\n",
    "        print(i)\n",
    "    if file == last_file:\n",
    "        paper = dat[target_papers.paper_number.iloc[i]]\n",
    "        out_dat = return_passages(paper)\n",
    "        data_collect.extend(out_dat)\n",
    "    else:\n",
    "        with open(file) as infile:\n",
    "            dat = json.load(infile)\n",
    "            paper = dat[target_papers.paper_number.iloc[i]]\n",
    "            out_dat = return_passages(paper)\n",
    "            data_collect.extend(out_dat)\n",
    "            last_file = file"
   ]
  },
  {
   "cell_type": "code",
   "execution_count": 43,
   "metadata": {},
   "outputs": [
    {
     "data": {
      "text/plain": [
       "(18406892, 5)"
      ]
     },
     "execution_count": 43,
     "metadata": {},
     "output_type": "execute_result"
    }
   ],
   "source": [
    "df_pool = pd.DataFrame(data_collect)\n",
    "df_pool.columns = ['context', 'paper_offset', 'pmcid', 'doi', 'section']\n",
    "tk_file = open('/data/riddleta/data_sharing_reuse/external/tokenizer.pk', 'rb')\n",
    "tokenizer = pickle.load(tk_file)\n",
    "tk_file.close()\n",
    "df_pool['context'] = df_pool.context.apply(lambda x: tokenizer.tokenize(x))\n",
    "df_pool = df_pool.explode('context')\n",
    "df_pool.shape# all sentence 18406892"
   ]
  },
  {
   "cell_type": "code",
   "execution_count": 44,
   "metadata": {},
   "outputs": [
    {
     "name": "stderr",
     "output_type": "stream",
     "text": [
      "/home/riddleta/miniconda3/envs/data_sharing_reuse/lib/python3.8/site-packages/IPython/core/interactiveshell.py:3050: DtypeWarning: Columns (4,5,10) have mixed types. Specify dtype option on import or set low_memory=False.\n",
      "  has_raised = await self.run_ast_nodes(code_ast.body, cell_name,\n"
     ]
    }
   ],
   "source": [
    "df_pool = df_pool[~df_pool.section.isin(['REF', 'TABLE', 'TITLE'])]\n",
    "df_pmcids = pd.read_csv('/data/riddleta/data_sharing_reuse/external/PMC-ids.csv')\n",
    "df_pmcids['pmcid'] = df_pmcids.PMCID.apply(lambda x: str(x)[3:])\n",
    "df_pool = df_pool.merge(df_pmcids, how='left', on='pmcid')\n",
    "df_pool['pmcid'] = df_pool.pmcid.astype('str')\n",
    "df_pool['offset'] = df_pool.paper_offset.astype('str')\n",
    "df_pool['pmcid-offset'] = df_pool.apply(lambda x: x['pmcid']+'-'+x['offset'], axis=1)\n",
    "df_pool['context'] = df_pool.context.astype('str')\n",
    "df_pool['text'] = df_pool.context.apply(lambda x: sep_urls(x))\n",
    "df_pool['syn_text'] = df_pool.text.apply(lambda x: syns(x))\n",
    "df_pool['all_text'] = df_pool.text + ' ' + df.syn_text"
   ]
  },
  {
   "cell_type": "code",
   "execution_count": 45,
   "metadata": {},
   "outputs": [],
   "source": [
    "df_pool.text.fillna('', inplace=True)\n",
    "df_pool['has_url'] = df_pool.text.apply(lambda x: extract.has_urls(x))\n",
    "df_pool['has_parenth'] = df_pool.text.apply(lambda x: check_paren(x))\n",
    "df_pool['repo'] = df_pool.text.apply(lambda x: repo_label(x))\n",
    "df_pool.all_text.fillna('', inplace=True)"
   ]
  },
  {
   "cell_type": "code",
   "execution_count": 46,
   "metadata": {},
   "outputs": [],
   "source": [
    "x_pool = cv.transform(df_pool.all_text)\n",
    "one_hots_pool = enc.transform(df_pool[['section', 'Journal Title', 'Year', 'has_url', 'has_parenth', 'repo']])\n",
    "\n",
    "x_pool = hstack([x_pool, one_hots_pool])\n",
    "y_pool_pred_prob = clf.predict_proba(x_pool)\n",
    "y_pool_pred = clf.predict(x_pool)"
   ]
  },
  {
   "cell_type": "code",
   "execution_count": 65,
   "metadata": {},
   "outputs": [],
   "source": [
    "df_pool['data_sharing_pred_prob'] = y_pool_pred_prob[:,1]\n",
    "df_pool['data_sharing_pred'] = y_pool_pred\n",
    "df_data_statements = df_pool[df_pool.data_sharing_pred==1]\n",
    "statements_to_label = df_data_statements.sample(n=500, random_state=42)"
   ]
  },
  {
   "cell_type": "code",
   "execution_count": 68,
   "metadata": {},
   "outputs": [],
   "source": [
    "statements_to_label['kw_code'] = statements_to_label.text.apply(lambda x: code_kw(x)) "
   ]
  },
  {
   "cell_type": "code",
   "execution_count": 71,
   "metadata": {
    "scrolled": true
   },
   "outputs": [
    {
     "data": {
      "text/plain": [
       "<matplotlib.axes._subplots.AxesSubplot at 0x7fcfa02e6be0>"
      ]
     },
     "execution_count": 71,
     "metadata": {},
     "output_type": "execute_result"
    },
    {
     "data": {
      "image/png": "[encoded data removed]",
      "text/plain": [
       "<Figure size 432x288 with 1 Axes>"
      ]
     },
     "metadata": {
      "needs_background": "light"
     },
     "output_type": "display_data"
    }
   ],
   "source": [
    "sns.distplot(df_pool.data_sharing_pred_prob, )"
   ]
  },
  {
   "cell_type": "code",
   "execution_count": 72,
   "metadata": {},
   "outputs": [
    {
     "data": {
      "text/plain": [
       "<matplotlib.axes._subplots.AxesSubplot at 0x7fcfa019f700>"
      ]
     },
     "execution_count": 72,
     "metadata": {},
     "output_type": "execute_result"
    },
    {
     "data": {
      "image/png": "[encoded data removed]",
      "text/plain": [
       "<Figure size 432x288 with 1 Axes>"
      ]
     },
     "metadata": {
      "needs_background": "light"
     },
     "output_type": "display_data"
    }
   ],
   "source": [
    "sns.distplot(statements_to_label.data_sharing_pred_prob)"
   ]
  },
  {
   "cell_type": "code",
   "execution_count": 94,
   "metadata": {},
   "outputs": [],
   "source": [
    "df_labeled['identifier'] = df_labeled.pmcid.astype('str') + ' ' + df_labeled.context"
   ]
  },
  {
   "cell_type": "code",
   "execution_count": 95,
   "metadata": {},
   "outputs": [
    {
     "data": {
      "text/plain": [
       "(500,)"
      ]
     },
     "execution_count": 95,
     "metadata": {},
     "output_type": "execute_result"
    }
   ],
   "source": [
    "df_labeled.identifier.unique().shape"
   ]
  },
  {
   "cell_type": "code",
   "execution_count": 96,
   "metadata": {},
   "outputs": [],
   "source": [
    "statements_to_label['identifier'] = statements_to_label.pmcid.astype('str') + ' ' + statements_to_label.context"
   ]
  },
  {
   "cell_type": "code",
   "execution_count": 102,
   "metadata": {},
   "outputs": [],
   "source": [
    "statements_to_label = statements_to_label[['text', 'section', 'doi', 'Journal Title', \n",
    "                                           'has_url', 'has_parenth', 'repo', 'pmcid', \n",
    "                                           'context', 'paper_offset', 'kw_code', \n",
    "                                           'identifier']]\n",
    "labels = df_labeled[['n2', 'Comment', 'identifier']]"
   ]
  },
  {
   "cell_type": "code",
   "execution_count": 104,
   "metadata": {},
   "outputs": [],
   "source": [
    "dat = statements_to_label.set_index('identifier').join(labels.set_index('identifier'))"
   ]
  },
  {
   "cell_type": "code",
   "execution_count": 106,
   "metadata": {},
   "outputs": [
    {
     "data": {
      "text/plain": [
       "(500, 13)"
      ]
     },
     "execution_count": 106,
     "metadata": {},
     "output_type": "execute_result"
    }
   ],
   "source": [
    "dat.reset_index(drop=True, inplace=True)\n",
    "dat.shape"
   ]
  },
  {
   "cell_type": "code",
   "execution_count": 107,
   "metadata": {},
   "outputs": [
    {
     "data": {
      "text/html": [
       "<div>\n",
       "<style scoped>\n",
       "    .dataframe tbody tr th:only-of-type {\n",
       "        vertical-align: middle;\n",
       "    }\n",
       "\n",
       "    .dataframe tbody tr th {\n",
       "        vertical-align: top;\n",
       "    }\n",
       "\n",
       "    .dataframe thead th {\n",
       "        text-align: right;\n",
       "    }\n",
       "</style>\n",
       "<table border=\"1\" class=\"dataframe\">\n",
       "  <thead>\n",
       "    <tr style=\"text-align: right;\">\n",
       "      <th></th>\n",
       "      <th>text</th>\n",
       "      <th>section</th>\n",
       "      <th>doi</th>\n",
       "      <th>Journal Title</th>\n",
       "      <th>has_url</th>\n",
       "      <th>has_parenth</th>\n",
       "      <th>repo</th>\n",
       "      <th>pmcid</th>\n",
       "      <th>context</th>\n",
       "      <th>paper_offset</th>\n",
       "      <th>kw_code</th>\n",
       "      <th>n2</th>\n",
       "      <th>Comment</th>\n",
       "    </tr>\n",
       "  </thead>\n",
       "  <tbody>\n",
       "    <tr>\n",
       "      <th>0</th>\n",
       "      <td>of some on this list are maintained by the Neu...</td>\n",
       "      <td>INTRO</td>\n",
       "      <td>10.1016/j.neuroimage.2009.03.086</td>\n",
       "      <td>Neuroimage</td>\n",
       "      <td>True</td>\n",
       "      <td>Balanced</td>\n",
       "      <td>nitrc</td>\n",
       "      <td>2754579</td>\n",
       "      <td>of some on this list are maintained by the Neu...</td>\n",
       "      <td>17113</td>\n",
       "      <td>1</td>\n",
       "      <td>NaN</td>\n",
       "      <td>NaN</td>\n",
       "    </tr>\n",
       "    <tr>\n",
       "      <th>1</th>\n",
       "      <td>SNP genotype data were obtained from dbGaP (Na...</td>\n",
       "      <td>INTRO</td>\n",
       "      <td>10.1038/ng.523</td>\n",
       "      <td>Nat Genet</td>\n",
       "      <td>False</td>\n",
       "      <td>Balanced</td>\n",
       "      <td>dbgap</td>\n",
       "      <td>2854040</td>\n",
       "      <td>SNP genotype data were obtained from dbGaP (Na...</td>\n",
       "      <td>1618</td>\n",
       "      <td>0</td>\n",
       "      <td>NaN</td>\n",
       "      <td>NaN</td>\n",
       "    </tr>\n",
       "    <tr>\n",
       "      <th>2</th>\n",
       "      <td>More complete data sets that are currently bei...</td>\n",
       "      <td>INTRO</td>\n",
       "      <td>10.1038/nature08536</td>\n",
       "      <td>Nature</td>\n",
       "      <td>True</td>\n",
       "      <td>Balanced</td>\n",
       "      <td>brain-map.org</td>\n",
       "      <td>2884271</td>\n",
       "      <td>More complete data sets that are currently bei...</td>\n",
       "      <td>9793</td>\n",
       "      <td>0</td>\n",
       "      <td>n</td>\n",
       "      <td>NaN</td>\n",
       "    </tr>\n",
       "    <tr>\n",
       "      <th>3</th>\n",
       "      <td>Because Nrp2 marks the contiguous olfactory co...</td>\n",
       "      <td>RESULTS</td>\n",
       "      <td>10.1038/nn.2427</td>\n",
       "      <td>Nat Neurosci</td>\n",
       "      <td>True</td>\n",
       "      <td>Balanced</td>\n",
       "      <td>brain-map.org</td>\n",
       "      <td>2897740</td>\n",
       "      <td>Because Nrp2 marks the contiguous olfactory co...</td>\n",
       "      <td>7893</td>\n",
       "      <td>0</td>\n",
       "      <td>NaN</td>\n",
       "      <td>NaN</td>\n",
       "    </tr>\n",
       "    <tr>\n",
       "      <th>4</th>\n",
       "      <td>To explore for other true signals that may not...</td>\n",
       "      <td>INTRO</td>\n",
       "      <td>10.1038/ng.642</td>\n",
       "      <td>Nat Genet</td>\n",
       "      <td>False</td>\n",
       "      <td>Balanced</td>\n",
       "      <td>dbgap</td>\n",
       "      <td>2930111</td>\n",
       "      <td>To explore for other true signals that may not...</td>\n",
       "      <td>5540</td>\n",
       "      <td>0</td>\n",
       "      <td>NaN</td>\n",
       "      <td>NaN</td>\n",
       "    </tr>\n",
       "  </tbody>\n",
       "</table>\n",
       "</div>"
      ],
      "text/plain": [
       "                                                text  section  \\\n",
       "0  of some on this list are maintained by the Neu...    INTRO   \n",
       "1  SNP genotype data were obtained from dbGaP (Na...    INTRO   \n",
       "2  More complete data sets that are currently bei...    INTRO   \n",
       "3  Because Nrp2 marks the contiguous olfactory co...  RESULTS   \n",
       "4  To explore for other true signals that may not...    INTRO   \n",
       "\n",
       "                                doi Journal Title  has_url has_parenth  \\\n",
       "0  10.1016/j.neuroimage.2009.03.086    Neuroimage     True    Balanced   \n",
       "1                    10.1038/ng.523     Nat Genet    False    Balanced   \n",
       "2               10.1038/nature08536        Nature     True    Balanced   \n",
       "3                   10.1038/nn.2427  Nat Neurosci     True    Balanced   \n",
       "4                    10.1038/ng.642     Nat Genet    False    Balanced   \n",
       "\n",
       "            repo    pmcid                                            context  \\\n",
       "0          nitrc  2754579  of some on this list are maintained by the Neu...   \n",
       "1          dbgap  2854040  SNP genotype data were obtained from dbGaP (Na...   \n",
       "2  brain-map.org  2884271  More complete data sets that are currently bei...   \n",
       "3  brain-map.org  2897740  Because Nrp2 marks the contiguous olfactory co...   \n",
       "4          dbgap  2930111  To explore for other true signals that may not...   \n",
       "\n",
       "   paper_offset  kw_code   n2 Comment  \n",
       "0         17113        1  NaN     NaN  \n",
       "1          1618        0  NaN     NaN  \n",
       "2          9793        0    n     NaN  \n",
       "3          7893        0  NaN     NaN  \n",
       "4          5540        0  NaN     NaN  "
      ]
     },
     "execution_count": 107,
     "metadata": {},
     "output_type": "execute_result"
    }
   ],
   "source": [
    "dat.head()"
   ]
  },
  {
   "cell_type": "code",
   "execution_count": 110,
   "metadata": {},
   "outputs": [
    {
     "data": {
      "text/html": [
       "<div>\n",
       "<style scoped>\n",
       "    .dataframe tbody tr th:only-of-type {\n",
       "        vertical-align: middle;\n",
       "    }\n",
       "\n",
       "    .dataframe tbody tr th {\n",
       "        vertical-align: top;\n",
       "    }\n",
       "\n",
       "    .dataframe thead th {\n",
       "        text-align: right;\n",
       "    }\n",
       "</style>\n",
       "<table border=\"1\" class=\"dataframe\">\n",
       "  <thead>\n",
       "    <tr style=\"text-align: right;\">\n",
       "      <th></th>\n",
       "      <th>n2</th>\n",
       "      <th>Comment</th>\n",
       "      <th>identifier</th>\n",
       "    </tr>\n",
       "  </thead>\n",
       "  <tbody>\n",
       "    <tr>\n",
       "      <th>0</th>\n",
       "      <td>2</td>\n",
       "      <td>NaN</td>\n",
       "      <td>3048805 Phenotype and                     geno...</td>\n",
       "    </tr>\n",
       "    <tr>\n",
       "      <th>1</th>\n",
       "      <td>2</td>\n",
       "      <td>NaN</td>\n",
       "      <td>3951904 This network hyperconnectivity result ...</td>\n",
       "    </tr>\n",
       "    <tr>\n",
       "      <th>2</th>\n",
       "      <td>2</td>\n",
       "      <td>NaN</td>\n",
       "      <td>4435707 Data were obtained from the Alzheimer'...</td>\n",
       "    </tr>\n",
       "    <tr>\n",
       "      <th>3</th>\n",
       "      <td>2</td>\n",
       "      <td>NaN</td>\n",
       "      <td>4851708 These disorders were all hypothesized ...</td>\n",
       "    </tr>\n",
       "    <tr>\n",
       "      <th>4</th>\n",
       "      <td>2</td>\n",
       "      <td>NaN</td>\n",
       "      <td>4814225 The HCP (Human Connectome Project) dat...</td>\n",
       "    </tr>\n",
       "  </tbody>\n",
       "</table>\n",
       "</div>"
      ],
      "text/plain": [
       "  n2 Comment                                         identifier\n",
       "0  2     NaN  3048805 Phenotype and                     geno...\n",
       "1  2     NaN  3951904 This network hyperconnectivity result ...\n",
       "2  2     NaN  4435707 Data were obtained from the Alzheimer'...\n",
       "3  2     NaN  4851708 These disorders were all hypothesized ...\n",
       "4  2     NaN  4814225 The HCP (Human Connectome Project) dat..."
      ]
     },
     "execution_count": 110,
     "metadata": {},
     "output_type": "execute_result"
    }
   ],
   "source": [
    "labels.head()"
   ]
  },
  {
   "cell_type": "code",
   "execution_count": 114,
   "metadata": {},
   "outputs": [
    {
     "data": {
      "text/html": [
       "<div>\n",
       "<style scoped>\n",
       "    .dataframe tbody tr th:only-of-type {\n",
       "        vertical-align: middle;\n",
       "    }\n",
       "\n",
       "    .dataframe tbody tr th {\n",
       "        vertical-align: top;\n",
       "    }\n",
       "\n",
       "    .dataframe thead th {\n",
       "        text-align: right;\n",
       "    }\n",
       "</style>\n",
       "<table border=\"1\" class=\"dataframe\">\n",
       "  <thead>\n",
       "    <tr style=\"text-align: right;\">\n",
       "      <th></th>\n",
       "      <th>text</th>\n",
       "      <th>section</th>\n",
       "      <th>doi</th>\n",
       "      <th>Journal Title</th>\n",
       "      <th>has_url</th>\n",
       "      <th>has_parenth</th>\n",
       "      <th>repo</th>\n",
       "      <th>pmcid</th>\n",
       "      <th>context</th>\n",
       "      <th>paper_offset</th>\n",
       "      <th>kw_code</th>\n",
       "      <th>n2</th>\n",
       "      <th>Comment</th>\n",
       "    </tr>\n",
       "  </thead>\n",
       "  <tbody>\n",
       "  </tbody>\n",
       "</table>\n",
       "</div>"
      ],
      "text/plain": [
       "Empty DataFrame\n",
       "Columns: [text, section, doi, Journal Title, has_url, has_parenth, repo, pmcid, context, paper_offset, kw_code, n2, Comment]\n",
       "Index: []"
      ]
     },
     "execution_count": 114,
     "metadata": {},
     "output_type": "execute_result"
    }
   ],
   "source": [
    "dat[dat.pmcid==3951904]"
   ]
  },
  {
   "cell_type": "code",
   "execution_count": null,
   "metadata": {},
   "outputs": [],
   "source": []
  }
 ],
 "metadata": {
  "kernelspec": {
   "display_name": "Python [conda env:data_sharing_reuse] *",
   "language": "python",
   "name": "conda-env-data_sharing_reuse-py"
  },
  "language_info": {
   "codemirror_mode": {
    "name": "ipython",
    "version": 3
   },
   "file_extension": ".py",
   "mimetype": "text/x-python",
   "name": "python",
   "nbconvert_exporter": "python",
   "pygments_lexer": "ipython3",
   "version": "3.8.0"
  }
 },
 "nbformat": 4,
 "nbformat_minor": 2
}
